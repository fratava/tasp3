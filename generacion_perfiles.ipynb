{
 "cells": [
  {
   "cell_type": "markdown",
   "metadata": {
    "deletable": true,
    "editable": true
   },
   "source": [
    "# Gráfica con el perfil original y el interpolado"
   ]
  },
  {
   "cell_type": "code",
   "execution_count": 1,
   "metadata": {
    "collapsed": false,
    "deletable": true,
    "editable": true
   },
   "outputs": [
    {
     "data": {
      "image/png": "[encoded data removed]",
      "text/plain": [
       "<matplotlib.figure.Figure at 0x7f4e50df7110>"
      ]
     },
     "metadata": {},
     "output_type": "display_data"
    }
   ],
   "source": [
    "import matplotlib.pyplot as plt\n",
    "import numpy as np\n",
    "import scipy.interpolate as sp\n",
    "import matplotlib.pyplot as plt\n",
    "from matplotlib.widgets import MultiCursor\n",
    "\n",
    "#Parametros iniciales\n",
    "#ide,z,T,P,H,V,vt=np.loadtxt(\"../data/C07/hydrostatic.bak\",unpack=True)\n",
    "ide,z,T,P,H,V,vt=np.loadtxt(\"../data/VALC/hydrostatic.bak\",unpack=True)\n",
    "\n",
    "density=20\n",
    "capa_lim=33\n",
    "zc7=z[:capa_lim]\n",
    "Tc7=T[:capa_lim]\n",
    "Pc7=P[:capa_lim]\n",
    "Hc7=H[:capa_lim]\n",
    "Vc7=V[:capa_lim]\n",
    "vtc7=vt[:capa_lim]\n",
    "\n",
    "#Interpol\n",
    "xnew = np.linspace(np.min(zc7), np.max(zc7), len(zc7)*density)\n",
    "fl_1 = sp.interp1d(zc7, Tc7, kind='linear')\n",
    "fl_2 = sp.interp1d(zc7, Pc7, kind='linear')\n",
    "fl_3 = sp.interp1d(zc7, Hc7, kind='linear')\n",
    "\n",
    "#Plot\n",
    "fig = plt.figure()\n",
    "\n",
    "#321\n",
    "ax1 = fig.add_subplot(321)\n",
    "plt.title(\"Original\")\n",
    "plt.plot(zc7, Tc7,'+-')\n",
    "plt.xscale('log')\n",
    "plt.yscale('log')\n",
    "plt.ylabel(\"Temp [K]\")\n",
    "plt.setp(ax1.get_xticklabels(), visible=False)\n",
    "\n",
    "#322\n",
    "ax2 = fig.add_subplot(322, sharey=ax1)\n",
    "plt.title(\"Interpolado\")\n",
    "ax2.plot(xnew, fl_1(xnew),'+-')\n",
    "plt.xscale('log')\n",
    "plt.yscale('log')\n",
    "plt.setp(ax2.get_xticklabels(), visible=False)\n",
    "plt.setp(ax2.get_yticklabels(), visible=False)\n",
    "\n",
    "#323\n",
    "ax3 = fig.add_subplot(323)\n",
    "plt.plot(zc7, Pc7,'+-')\n",
    "plt.xscale('log')\n",
    "plt.yscale('log')\n",
    "plt.ylabel(\"Presion\")\n",
    "plt.setp(ax3.get_xticklabels(), visible=False)\n",
    "\n",
    "#324\n",
    "ax4 =fig.add_subplot(324, sharey=ax3)\n",
    "ax4.plot(xnew, fl_2(xnew),'+-')\n",
    "plt.xscale('log')\n",
    "plt.yscale('log')\n",
    "plt.setp(ax4.get_xticklabels(), visible=False)\n",
    "plt.setp(ax4.get_yticklabels(), visible=False)\n",
    "\n",
    "#325\n",
    "ax5 = fig.add_subplot(325)\n",
    "plt.plot(zc7, Hc7,'+-')\n",
    "plt.xscale('log')\n",
    "plt.yscale('log')\n",
    "plt.ylabel(\"H [cm-3]\")\n",
    "plt.xlabel(\"Altura [Km]\")\n",
    "\n",
    "#326\n",
    "ax6 = fig.add_subplot(326, sharey=ax5)\n",
    "ax6.plot(xnew, fl_3(xnew),'+-')\n",
    "plt.xscale('log')\n",
    "plt.yscale('log')\n",
    "plt.xlabel(\"Altura [Km]\")\n",
    "plt.setp(ax6.get_yticklabels(), visible=False)\n",
    "\n",
    "\n",
    "multi = MultiCursor(fig.canvas, (ax1, ax3, ax5,ax2, ax4, ax6), color='g', lw=1)\n",
    "plt.show()"
   ]
  },
  {
   "cell_type": "markdown",
   "metadata": {
    "deletable": true,
    "editable": true
   },
   "source": [
    "# Rutina para grabar los datos de interpolación en un archivo"
   ]
  },
  {
   "cell_type": "code",
   "execution_count": null,
   "metadata": {
    "collapsed": false,
    "deletable": true,
    "editable": true
   },
   "outputs": [],
   "source": [
    "import scipy.interpolate as sp\n",
    "\n",
    "#ide,z,T,P,H,V,vt=np.loadtxt(\"../data/C07/hydrostatic.bak\",unpack=True)\n",
    "ide,z,T,P,H,V,vt=np.loadtxt(\"../data/VALC/hydrostatic.bak\",unpack=True)\n",
    "\n",
    "density=5\n",
    "capa_lim=33\n",
    "\n",
    "zc7=z[:capa_lim]\n",
    "Tc7=T[:capa_lim]\n",
    "Pc7=P[:capa_lim]\n",
    "Hc7=H[:capa_lim]\n",
    "Vc7=V[:capa_lim]\n",
    "vtc7=vt[:capa_lim]\n",
    "\n",
    "xnew = np.linspace(np.min(zc7), np.max(zc7), len(zc7)*density)\n",
    "fl_1 = sp.interp1d(zc7, Tc7, kind='linear')\n",
    "fl_2 = sp.interp1d(zc7, Pc7, kind='linear')\n",
    "fl_3 = sp.interp1d(zc7, Hc7, kind='linear')\n",
    "fl_4 = sp.interp1d(zc7, Vc7, kind='linear')\n",
    "fl_5 = sp.interp1d(zc7, vtc7, kind='linear')\n",
    "\n",
    "zc7_new=xnew\n",
    "Tc7_new=fl_1(xnew)\n",
    "Pc7_new=fl_2(xnew)\n",
    "Hc7_new=fl_3(xnew)\n",
    "Vc7_new=fl_4(xnew)\n",
    "vtc7_new=fl_5(xnew)\n",
    "\n",
    "#f = open('../data/C07_interpol/hydrostatic_1.bak','w')\n",
    "f = open('../data/VALC_interpol/hydrostatic.bak','w')\n",
    "\n",
    "f.write('# H\\n')\n",
    "f.write('# Header file to hidrostatic model\\n')\n",
    "f.write('# By: Francisco Tapia\\n')\n",
    "f.write('# ftapia.va@gmail.com\\n')\n",
    "f.write('# 12/24/2016\\n')\n",
    "f.write('# Dummy Pakage to prove te read data\\n')\n",
    "f.write('# id: Identification model\\n')\n",
    "f.write('# z : Height over the photosphere (km)\\n')\n",
    "f.write('# T : Temperature (k)\\n')\n",
    "f.write('# P : Presure\\n')\n",
    "f.write('# H : Hidrogen density (cm-3)\\n')\n",
    "f.write('# [ne]: Calculada a partir de las especies\\n')\n",
    "f.write('# V : Doppler Velocity\\n')\n",
    "f.write('# vt: Turbulent Velocity\\n')\n",
    "f.write('#id\\tz\\t\\tT\\t\\tP\\t\\tH\\t\\tV\\t\\tvt\\n')\n",
    "    \n",
    "for i in range(0,len(Tc7_new)):\n",
    "    f.write('%d'%(i+1)+'\\t'+'{:.3e}'.format(float(zc7_new[i]))+'\\t'+'{:.3e}'.format(float(Tc7_new[i]))\n",
    "            +'\\t'+'{:.3e}'.format(float(Pc7_new[i]))+'\\t'+'{:.3e}'.format(float(Hc7_new[i]))\n",
    "            +'\\t'+'{:.3e}'.format(float(Vc7_new[i]))+'\\t'+'{:.3e}'.format(float(vtc7_new[i]))+'\\n')\n",
    "\n",
    "for i in range(capa_lim,len(z)):\n",
    "    f.write('%d'%((i-(capa_lim-1))+len(zc7_new))+'\\t'+'{:.3e}'.format(float(z[i]))+'\\t'+'{:.3e}'.format(float(T[i]))\n",
    "            +'\\t'+'{:.3e}'.format(float(P[i]))+'\\t'+'{:.3e}'.format(float(H[i]))\n",
    "            +'\\t'+'{:.3e}'.format(float(V[i]))+'\\t'+'{:.3e}'.format(float(vt[i]))+'\\n')    \n",
    "    \n",
    "f.close()"
   ]
  },
  {
   "cell_type": "markdown",
   "metadata": {
    "collapsed": true,
    "deletable": true,
    "editable": true
   },
   "source": [
    "# Acotamiento del perfil"
   ]
  },
  {
   "cell_type": "code",
   "execution_count": 21,
   "metadata": {
    "collapsed": false,
    "deletable": true,
    "editable": true
   },
   "outputs": [
    {
     "data": {
      "image/png": "[encoded data removed]",
      "text/plain": [
       "<matplotlib.figure.Figure at 0x7f872f568450>"
      ]
     },
     "metadata": {},
     "output_type": "display_data"
    }
   ],
   "source": [
    "import matplotlib.pyplot as plt\n",
    "import numpy as np\n",
    "\n",
    "\n",
    "ide,z,T,P,H,V,vt=np.loadtxt(\"../data/VALC_interpol/hydrostatic.bak\",unpack=True)\n",
    "\n",
    "plt.plot(z,T)\n",
    "plt.plot(z[:25],T[:25])\n",
    "plt.plot(z[25:175],T[25:175])\n",
    "plt.xscale('log')\n",
    "plt.yscale('log')\n",
    "\n",
    "plt.savefig(\"inter.png\", dpi=400)\n",
    "plt.show()\n"
   ]
  },
  {
   "cell_type": "code",
   "execution_count": null,
   "metadata": {
    "collapsed": true,
    "deletable": true,
    "editable": true
   },
   "outputs": [],
   "source": []
  }
 ],
 "metadata": {
  "kernelspec": {
   "display_name": "Python 2",
   "language": "python",
   "name": "python2"
  },
  "language_info": {
   "codemirror_mode": {
    "name": "ipython",
    "version": 2
   },
   "file_extension": ".py",
   "mimetype": "text/x-python",
   "name": "python",
   "nbconvert_exporter": "python",
   "pygments_lexer": "ipython2",
   "version": "2.7.12"
  }
 },
 "nbformat": 4,
 "nbformat_minor": 0
}
